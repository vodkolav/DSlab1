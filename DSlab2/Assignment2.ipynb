{
 "cells": [
  {
   "cell_type": "markdown",
   "id": "d3ad2eea-f696-4c32-a74b-1f87122416e7",
   "metadata": {},
   "source": [
    "# Homework 2 submission\n",
    "for course: Data Science lab 2   \n",
    "by  Michael Berger   \n",
    " \n",
    "\n",
    "Lecturer: Dr. Sharon Yalov-Handzel  \n",
    "Afeka College of engineering\n"
   ]
  },
  {
   "cell_type": "markdown",
   "id": "86db92a4-f744-43c4-b873-c520257c644c",
   "metadata": {},
   "source": [
    "## 1. Use the dataset from UCI Machine Learning Repository:\n",
    "\"Individual household electric power consumption\" for performing time series analysis.  \n",
    "https://archive.ics.uci.edu/dataset/235/individual+household+electric+power+consumption"
   ]
  },
  {
   "cell_type": "code",
   "execution_count": null,
   "id": "a44808d2-08db-4999-abe2-e107a3b2ed74",
   "metadata": {},
   "outputs": [],
   "source": [
    "! pip install ucimlrepo"
   ]
  },
  {
   "cell_type": "code",
   "execution_count": null,
   "id": "ec037f7b-2808-4018-9c1d-b7f768b03733",
   "metadata": {},
   "outputs": [],
   "source": [
    "import numpy as np\n",
    "import pandas as pd\n",
    "import sklearn \n",
    "from sklearn.linear_model import LinearRegression\n",
    "from sklearn.dummy import DummyRegressor\n",
    "from sklearn.metrics import mean_absolute_error, mean_squared_error\n",
    "from sklearn.metrics import root_mean_squared_error,    r2_score\n",
    "from sklearn.preprocessing import MinMaxScaler, FunctionTransformer\n",
    "\n",
    "\n",
    "import tensorflow as tf\n",
    "from tensorflow.keras.models import Sequential, Model\n",
    "from tensorflow.keras.layers import Input, SimpleRNN, LSTM, Dense, Attention, Concatenate\n",
    "\n",
    "\n",
    "\n",
    "import matplotlib.pyplot as plt\n",
    "#import tensorflow as tf\n",
    "#import pytorch as pt\n",
    "\n",
    "import os\n",
    "from datetime import datetime\n",
    "import statistics as stat\n",
    "\n",
    "import plotly.express as px\n",
    "from plotly.subplots import make_subplots\n",
    "\n",
    "from ucimlrepo import fetch_ucirepo , dotdict\n",
    "pd.set_option('display.precision', 3)\n",
    "\n",
    "from pathlib import Path\n",
    "import pickle \n",
    " \n",
    "\n",
    "%matplotlib inline"
   ]
  },
  {
   "cell_type": "code",
   "execution_count": null,
   "id": "33ef9b97-f1d1-477d-9636-0feb7e3f3c9a",
   "metadata": {},
   "outputs": [],
   "source": [
    "sklearn.__version__"
   ]
  },
  {
   "cell_type": "code",
   "execution_count": null,
   "id": "326476df-cece-40a5-b3fb-9db24240395d",
   "metadata": {},
   "outputs": [],
   "source": [
    "\n",
    "fn = r\"data/individual_household_electric_power_consumption.pkl\"\n",
    "pth = Path(fn)\n",
    "if pth.exists():\n",
    "    with open(fn, \"rb\") as fl:\n",
    "        individual_household_electric_power_consumption = pickle.load(fl)\n",
    "else: \n",
    "    \n",
    "    individual_household_electric_power_consumption = fetch_ucirepo(id=235) \n",
    "    pth.parent.mkdir(parents=True, exist_ok=True)\n",
    "    with open(fn, \"wb\") as fl:\n",
    "        pickle.dump(individual_household_electric_power_consumption, fl)\n",
    "    "
   ]
  },
  {
   "cell_type": "code",
   "execution_count": null,
   "id": "f2b7c384-1f4e-491b-a60a-2dfe7df7ca30",
   "metadata": {},
   "outputs": [],
   "source": [
    "# data (as pandas dataframes) \n",
    "X = individual_household_electric_power_consumption.data.features \n",
    "y = individual_household_electric_power_consumption.data.targets \n",
    "  \n",
    "# metadata \n",
    "print(individual_household_electric_power_consumption.metadata) \n",
    "  \n",
    "# variable information \n",
    "print(individual_household_electric_power_consumption.variables) "
   ]
  },
  {
   "cell_type": "code",
   "execution_count": null,
   "id": "90ea673f-25f9-480b-b615-7f7bbee22c54",
   "metadata": {},
   "outputs": [],
   "source": [
    "import json\n",
    "meta = json.dumps(individual_household_electric_power_consumption.metadata,indent=2)\n",
    "print(meta)"
   ]
  },
  {
   "cell_type": "code",
   "execution_count": null,
   "id": "99dfe336-b287-4e8b-a4fc-c25246c60802",
   "metadata": {},
   "outputs": [],
   "source": [
    "metadic = individual_household_electric_power_consumption.metadata"
   ]
  },
  {
   "cell_type": "code",
   "execution_count": null,
   "id": "b1ab6f6d-1734-4fc9-884c-29980d45522a",
   "metadata": {},
   "outputs": [],
   "source": [
    "type(metadic)"
   ]
  },
  {
   "cell_type": "code",
   "execution_count": null,
   "id": "fa96ba02-981f-4dad-95f3-6c01fa9b51dc",
   "metadata": {},
   "outputs": [],
   "source": [
    "type(metadic).__name__"
   ]
  },
  {
   "cell_type": "code",
   "execution_count": null,
   "id": "c0e555a5-759e-4e27-a6ab-642258057b84",
   "metadata": {},
   "outputs": [],
   "source": [
    "def mylen(o):\n",
    "    if type(o)==int:\n",
    "        return str(o)\n",
    "    if type(o)==type(None):\n",
    "        return \"0\"\n",
    "    else:\n",
    "        return len(o)"
   ]
  },
  {
   "cell_type": "code",
   "execution_count": null,
   "id": "ccc5f0d1-56ac-4ab3-8845-6f1004c5ea7e",
   "metadata": {},
   "outputs": [],
   "source": [
    "def showkeys(dic, ind = 0):\n",
    "    if type(dic)== dotdict:\n",
    "        for k,v  in dic.items() :\n",
    "            print(\" \"*ind , k, \"|\", type(v).__name__, \",\", mylen(v) )\n",
    "            showkeys(dic[k], ind+4)\n",
    "\n",
    "showkeys(metadic)"
   ]
  },
  {
   "cell_type": "code",
   "execution_count": null,
   "id": "924dbbc0-ae1d-40c0-b84d-e5f845ceb250",
   "metadata": {},
   "outputs": [],
   "source": [
    "print(metadic[\"abstract\"])"
   ]
  },
  {
   "cell_type": "code",
   "execution_count": null,
   "id": "f43f6b12-f575-4607-bb64-560a4265c430",
   "metadata": {},
   "outputs": [],
   "source": [
    "print(metadic[\"additional_info\"][\"summary\"])"
   ]
  },
  {
   "cell_type": "code",
   "execution_count": null,
   "id": "300eaa71-c36a-4230-ab88-8537d843868e",
   "metadata": {},
   "outputs": [],
   "source": [
    "print(metadic[\"additional_info\"][\"variable_info\"])"
   ]
  },
  {
   "cell_type": "markdown",
   "id": "9c1ef774-ba78-4db0-8417-ae3d91ac53d7",
   "metadata": {},
   "source": [
    "## 2. Perform Exploratory Data Analysis (EDA) of the dataset:"
   ]
  },
  {
   "cell_type": "markdown",
   "id": "051fb47b-9a91-439a-a13b-9cc4ffdfc6f6",
   "metadata": {},
   "source": [
    "First, convert all values to numeric"
   ]
  },
  {
   "cell_type": "code",
   "execution_count": null,
   "id": "e42da093-4419-4644-bddf-2099b52a3e97",
   "metadata": {},
   "outputs": [],
   "source": [
    "numcols = ['Global_active_power', 'Global_reactive_power',\n",
    "           'Voltage', 'Global_intensity', 'Sub_metering_1', \n",
    "           'Sub_metering_2', 'Sub_metering_3']\n",
    "\n",
    "for c in numcols:\n",
    "    X[c] = pd.to_numeric(X[c], errors = \"coerce\") "
   ]
  },
  {
   "cell_type": "markdown",
   "id": "ebb294ea-ae1e-42a4-98cb-44ab3bd0eecf",
   "metadata": {},
   "source": [
    "combine date and time into single col datetime"
   ]
  },
  {
   "cell_type": "code",
   "execution_count": null,
   "id": "dede3ab6-d34f-4e9d-83f5-d6dda65d98e8",
   "metadata": {},
   "outputs": [],
   "source": [
    "dt = X[\"Date\"] + \" \" + X[\"Time\"]\n",
    "X[\"datetime\"] = pd.to_datetime(dt, dayfirst=True)"
   ]
  },
  {
   "cell_type": "markdown",
   "id": "be0805f9-6afc-482e-b486-4ade1dbb0044",
   "metadata": {},
   "source": [
    "### a.  Visualize time series trends"
   ]
  },
  {
   "cell_type": "code",
   "execution_count": null,
   "id": "2bb1e80a-1029-47f6-a9af-34315e1e59e1",
   "metadata": {},
   "outputs": [],
   "source": [
    "def summary(df):\n",
    "    nonnans = df.shape[0] - df.isna().sum()\n",
    "    nonnansPrc = (nonnans / df.shape[0] * 100).apply(\"{0:.2f}%\".format)\n",
    "    sam = df.sample(1, random_state=42).squeeze()\n",
    "    res = pd.DataFrame([sam.index, df.dtypes.astype(str), nonnans,\n",
    "                        nonnansPrc, df.nunique(), sam]).transpose()\n",
    "    res.columns = [\"Column\", \"data type\", \"non-null values\", \n",
    "                   \"non-null values %\", \"unique values\", \"example\"]\n",
    "    res.sort_values(\"unique values\",ascending=False, inplace=True)\n",
    "    return res"
   ]
  },
  {
   "cell_type": "code",
   "execution_count": null,
   "id": "859bfa96-291f-4291-8bb7-454f3018539c",
   "metadata": {},
   "outputs": [],
   "source": [
    "X.head()"
   ]
  },
  {
   "cell_type": "code",
   "execution_count": null,
   "id": "6568a9ea-65ff-4435-98b4-c326c4bd793a",
   "metadata": {},
   "outputs": [],
   "source": [
    "\n",
    "pd.options.display.float_format = '{:,.4f}'.format\n",
    "d = X.describe()\n",
    "d"
   ]
  },
  {
   "cell_type": "code",
   "execution_count": null,
   "id": "bfb5e0f7-8074-4f87-8308-f3ecca4c95cd",
   "metadata": {},
   "outputs": [],
   "source": [
    "summary(X)"
   ]
  },
  {
   "cell_type": "code",
   "execution_count": null,
   "id": "5f2272b1-c044-4805-9d82-737ba7cdb8e8",
   "metadata": {},
   "outputs": [],
   "source": [
    "X"
   ]
  },
  {
   "cell_type": "code",
   "execution_count": null,
   "id": "f6463557-f983-41c3-885d-96c75859e267",
   "metadata": {},
   "outputs": [],
   "source": [
    "df = X.set_index('datetime').drop([\"Date\",\"Time\"],axis=1)"
   ]
  },
  {
   "cell_type": "code",
   "execution_count": null,
   "id": "9152e801-aae8-4cf2-b31c-2ed2a02fe004",
   "metadata": {},
   "outputs": [],
   "source": [
    "df = df.fillna(0)\n",
    "df"
   ]
  },
  {
   "cell_type": "markdown",
   "id": "4fc7b021-f409-4cc9-a220-6fbfacd359b1",
   "metadata": {},
   "source": [
    "### Try: Seasonal decompose"
   ]
  },
  {
   "cell_type": "code",
   "execution_count": null,
   "id": "bf56be62-d841-40da-b186-8a8ab7600a62",
   "metadata": {},
   "outputs": [],
   "source": [
    "test = df['Global_active_power'].head(10000)"
   ]
  },
  {
   "cell_type": "code",
   "execution_count": null,
   "id": "9e23e6d6-96c3-446f-990a-cb32b2b3a903",
   "metadata": {},
   "outputs": [],
   "source": [
    "from statsmodels.tsa.seasonal import seasonal_decompose\n",
    "\n",
    "\n",
    "# Decomposing the time series\n",
    "result = seasonal_decompose(test, model='additive', period=7) #, extrapolate_trend='freq')"
   ]
  },
  {
   "cell_type": "code",
   "execution_count": null,
   "id": "27f80121-ec5a-4884-9a84-fbe5952c73ba",
   "metadata": {},
   "outputs": [],
   "source": [
    "from statsmodels.tsa.arima import "
   ]
  },
  {
   "cell_type": "code",
   "execution_count": null,
   "id": "dc0b8662-fec6-4ec7-8459-08a1a105b8d3",
   "metadata": {},
   "outputs": [],
   "source": [
    "result.trend.shape"
   ]
  },
  {
   "cell_type": "code",
   "execution_count": null,
   "id": "236fb020-410e-4d3f-81c6-7bb7eff7f6da",
   "metadata": {},
   "outputs": [],
   "source": [
    "# Plotting the decomposed time series\n",
    "fig, (ax1, ax2, ax3, ax4) = plt.subplots(4, 1, figsize=(14, 12))\n",
    "\n",
    "# Original data\n",
    "ax1.plot(test, '-', label='Original Data')\n",
    "ax1.set_title('Original Time Series')\n",
    "ax1.grid(True)\n",
    "\n",
    "# Trend component\n",
    "ax2.plot(result.trend, '-', label='Trend Component')\n",
    "ax2.set_title('Trend Component')\n",
    "ax2.grid(True)\n",
    "\n",
    "# Seasonal component\n",
    "ax3.plot(result.seasonal, '-', label='Seasonal Component')\n",
    "ax3.set_title('Seasonal Component')\n",
    "ax3.grid(True)\n",
    "\n",
    "# Residual component\n",
    "ax4.plot(result.resid, '-', label='Residual Component')\n",
    "ax4.set_title('Residual Component')\n",
    "ax4.grid(True)\n",
    "\n",
    "plt.tight_layout()\n",
    "plt.show()"
   ]
  },
  {
   "cell_type": "code",
   "execution_count": null,
   "id": "7e7053e3-5dae-4e43-b3a4-1d0cf2975cfe",
   "metadata": {},
   "outputs": [],
   "source": []
  },
  {
   "cell_type": "code",
   "execution_count": null,
   "id": "573b2e0b-56fa-4021-a3af-52acd4308699",
   "metadata": {},
   "outputs": [],
   "source": [
    "Xs = X.sample(int(10e3))"
   ]
  },
  {
   "cell_type": "code",
   "execution_count": null,
   "id": "91a4f806-6c2c-4ff5-b7de-b32c35190532",
   "metadata": {},
   "outputs": [],
   "source": [
    "Xs.shape"
   ]
  },
  {
   "cell_type": "code",
   "execution_count": null,
   "id": "24dae227-4b83-43e2-b1b1-47377749f76b",
   "metadata": {},
   "outputs": [],
   "source": [
    "X[X.datetime == X.loc[124076,\"datetime\"]]"
   ]
  },
  {
   "cell_type": "code",
   "execution_count": null,
   "id": "0579f0f8-e5ab-41c8-8efd-ac6d2c074bb9",
   "metadata": {},
   "outputs": [],
   "source": [
    "px.histogram(Xs, x = 'Global_active_power')"
   ]
  },
  {
   "cell_type": "code",
   "execution_count": null,
   "id": "5d4ab16b-68ab-4767-b30b-d60048a1bd21",
   "metadata": {},
   "outputs": [],
   "source": [
    "Xss = Xs.sort_values('datetime')"
   ]
  },
  {
   "cell_type": "code",
   "execution_count": null,
   "id": "2354614c-9ab4-4228-8c0c-e40e9a3b60a6",
   "metadata": {},
   "outputs": [],
   "source": [
    "Xss.reset_index(inplace=True)"
   ]
  },
  {
   "cell_type": "code",
   "execution_count": null,
   "id": "0fa32ec6-0360-46c1-b72f-a9963d75d8a4",
   "metadata": {},
   "outputs": [],
   "source": [
    "px.line(Xss, x='datetime', y = 'Global_reactive_power',)"
   ]
  },
  {
   "cell_type": "markdown",
   "id": "4a810229-800c-46b8-809c-ea532755e10f",
   "metadata": {
    "jp-MarkdownHeadingCollapsed": true
   },
   "source": [
    "### Trying to apply FFT"
   ]
  },
  {
   "cell_type": "code",
   "execution_count": null,
   "id": "8b1afdbc-ecb4-4dd5-8044-edc8369f3108",
   "metadata": {},
   "outputs": [],
   "source": [
    "import librosa\n",
    "import librosa.display"
   ]
  },
  {
   "cell_type": "code",
   "execution_count": null,
   "id": "c5aba8c3-4ce7-4bbf-afcc-6a694bd0a9a5",
   "metadata": {},
   "outputs": [],
   "source": [
    "X['Global_active_power'].dropna()"
   ]
  },
  {
   "cell_type": "code",
   "execution_count": null,
   "id": "8240fa5f-5924-40d1-a805-385f1ddf11ca",
   "metadata": {},
   "outputs": [],
   "source": [
    "s,l = 1e5, 1e5\n",
    "e = s+l\n",
    "test = X.loc[s:e-1]\n",
    "test.shape"
   ]
  },
  {
   "cell_type": "code",
   "execution_count": null,
   "id": "58c8121c-9e37-4322-81d6-3cf8f04da9a5",
   "metadata": {},
   "outputs": [],
   "source": [
    "test.index"
   ]
  },
  {
   "cell_type": "code",
   "execution_count": null,
   "id": "40d46793-d2a7-4451-99b0-0985c91c7f49",
   "metadata": {},
   "outputs": [],
   "source": [
    "test.loc['Gap_diff']  = test['Global_active_power'].diff()"
   ]
  },
  {
   "cell_type": "code",
   "execution_count": null,
   "id": "354f6cfe-c169-43c1-aac1-eb3f5c85230a",
   "metadata": {},
   "outputs": [],
   "source": [
    "test"
   ]
  },
  {
   "cell_type": "code",
   "execution_count": null,
   "id": "64011ec9-4043-4783-ba88-763cd2ed391b",
   "metadata": {},
   "outputs": [],
   "source": [
    "px.line(test, x='datetime', y = 'Global_active_power', hover_data=[test.index])"
   ]
  },
  {
   "cell_type": "code",
   "execution_count": null,
   "id": "9fc8bd69-fbbb-4ca2-a1e0-53f65d6516a6",
   "metadata": {},
   "outputs": [],
   "source": [
    "60*24"
   ]
  },
  {
   "cell_type": "code",
   "execution_count": null,
   "id": "2c58e76c-78bb-49de-888a-cadbcc639e73",
   "metadata": {},
   "outputs": [],
   "source": []
  },
  {
   "cell_type": "code",
   "execution_count": null,
   "id": "ac3b7b26-f53a-41d2-bbf4-2e74a37dd112",
   "metadata": {},
   "outputs": [],
   "source": [
    "px.line(test, x='datetime', y = 'Gap_diff', hover_data=[test.index])"
   ]
  },
  {
   "cell_type": "code",
   "execution_count": null,
   "id": "173dc342-5958-4165-9c80-032968f80c57",
   "metadata": {},
   "outputs": [],
   "source": [
    "X['Gap_diff']  = X['Global_active_power'].diff()"
   ]
  },
  {
   "cell_type": "code",
   "execution_count": null,
   "id": "f83a9ebf-6cad-4ddf-983b-804ae3c39394",
   "metadata": {},
   "outputs": [],
   "source": [
    "X"
   ]
  },
  {
   "cell_type": "code",
   "execution_count": null,
   "id": "5f731f8d-9659-48f1-8de7-77e1e2543397",
   "metadata": {},
   "outputs": [],
   "source": [
    "audio = np.array(X['Gap_diff'].fillna(0)) \n",
    "audio"
   ]
  },
  {
   "cell_type": "code",
   "execution_count": null,
   "id": "5075e3f8-8c3b-4725-ba7f-75d582ed214e",
   "metadata": {},
   "outputs": [],
   "source": [
    "audio.shape"
   ]
  },
  {
   "cell_type": "code",
   "execution_count": null,
   "id": "06969a9c-f4d5-45d9-b2eb-6f518e6a17ce",
   "metadata": {},
   "outputs": [],
   "source": [
    "audio.diff()"
   ]
  },
  {
   "cell_type": "code",
   "execution_count": null,
   "id": "85556a37-b18c-4110-b3fa-c5e657fc4f2f",
   "metadata": {},
   "outputs": [],
   "source": [
    "px.histogram(audio)"
   ]
  },
  {
   "cell_type": "code",
   "execution_count": null,
   "id": "5399ddb5-63e1-4ff7-912a-ec1b37d1a755",
   "metadata": {},
   "outputs": [],
   "source": [
    "np.mean(audio)"
   ]
  },
  {
   "cell_type": "code",
   "execution_count": null,
   "id": "0fd3f0e8-03b5-4427-a84d-6b1751893621",
   "metadata": {},
   "outputs": [],
   "source": [
    "2400/14/2/24"
   ]
  },
  {
   "cell_type": "code",
   "execution_count": null,
   "id": "b132c9e2-f47e-47ba-93a6-40b0bdcd493d",
   "metadata": {},
   "outputs": [],
   "source": [
    "W = np.ones(Wsize)/Wsize"
   ]
  },
  {
   "cell_type": "code",
   "execution_count": null,
   "id": "58f1b127-3b2a-4419-be61-8f5f5c472851",
   "metadata": {},
   "outputs": [],
   "source": [
    "W"
   ]
  },
  {
   "cell_type": "code",
   "execution_count": null,
   "id": "58672c69-5794-4c1d-8194-dffe75843c43",
   "metadata": {},
   "outputs": [],
   "source": [
    "Wsize = 1200\n",
    "ma = np.convolve(audio, np.ones(Wsize)/Wsize, mode='same',)"
   ]
  },
  {
   "cell_type": "code",
   "execution_count": null,
   "id": "21d31194-6238-4e0f-96cb-54120c4ca7eb",
   "metadata": {},
   "outputs": [],
   "source": [
    "sd = np.sqrt(np.convolve((audio - ma)**2, np.ones(Wsize)/Wsize, mode='same',) +1) "
   ]
  },
  {
   "cell_type": "code",
   "execution_count": null,
   "id": "fc7870b6-8fda-4c54-b584-0c7bc1573805",
   "metadata": {},
   "outputs": [],
   "source": [
    "np.min(sd)"
   ]
  },
  {
   "cell_type": "code",
   "execution_count": null,
   "id": "47f70bee-5127-4fd3-bf84-39e91369dd43",
   "metadata": {},
   "outputs": [],
   "source": [
    "audio[audio == ma]"
   ]
  },
  {
   "cell_type": "code",
   "execution_count": null,
   "id": "b1f2c72b-e71b-4e08-a617-a65adca3f0ae",
   "metadata": {},
   "outputs": [],
   "source": [
    "audio.shape , ma.shape, sd.shape"
   ]
  },
  {
   "cell_type": "code",
   "execution_count": null,
   "id": "b2be58b2-9bac-4d7e-af18-591ccf687ac1",
   "metadata": {},
   "outputs": [],
   "source": [
    "sd[sd==0]"
   ]
  },
  {
   "cell_type": "code",
   "execution_count": null,
   "id": "465b5a61-eb23-441b-b3f4-2faedcd84338",
   "metadata": {},
   "outputs": [],
   "source": [
    "2049280 - 2049221"
   ]
  },
  {
   "cell_type": "code",
   "execution_count": null,
   "id": "2ff5dcbf-4a88-4013-b538-d39bd83927ad",
   "metadata": {},
   "outputs": [],
   "source": [
    "audio2 = (audio) -ma\n"
   ]
  },
  {
   "cell_type": "code",
   "execution_count": null,
   "id": "47162e60-3130-40e9-b43a-e628932fa77f",
   "metadata": {},
   "outputs": [],
   "source": [
    "import plotly.graph_objects as go "
   ]
  },
  {
   "cell_type": "code",
   "execution_count": null,
   "id": "2da2c39c-5a66-4cfc-9bc7-662c4996a68c",
   "metadata": {},
   "outputs": [],
   "source": [
    "test"
   ]
  },
  {
   "cell_type": "code",
   "execution_count": null,
   "id": "23585b59-4d40-449a-82e7-f3c77346fba1",
   "metadata": {},
   "outputs": [],
   "source": [
    "#fig = px.line(test, x='datetime', y = test.index)\n",
    "#fig.add_scatter(test,  y = 'Global_active_power', hover_data=[test.index])\n",
    "#fig.add_scatter(y = ma, x = test.datetime)\n",
    "#fig.add_scatter(y = sd, x = test.datetime)"
   ]
  },
  {
   "cell_type": "code",
   "execution_count": null,
   "id": "55bda424-a8dc-4d37-a49d-469a6b769647",
   "metadata": {},
   "outputs": [],
   "source": [
    "px.line(audio2)"
   ]
  },
  {
   "cell_type": "code",
   "execution_count": null,
   "id": "1fc0dfbf-4424-40df-aa6b-de0eec524fa7",
   "metadata": {},
   "outputs": [],
   "source": [
    "audio[~np.isfinite(audio)]"
   ]
  },
  {
   "cell_type": "code",
   "execution_count": null,
   "id": "cd45ff60-b92c-4b8c-af6e-d2e1c937e78c",
   "metadata": {},
   "outputs": [],
   "source": [
    "audio2.shape"
   ]
  },
  {
   "cell_type": "code",
   "execution_count": null,
   "id": "d51be0e7-871b-4ef8-9147-84366b9b5ceb",
   "metadata": {},
   "outputs": [],
   "source": [
    "60*60*24*7"
   ]
  },
  {
   "cell_type": "code",
   "execution_count": null,
   "id": "b0525e09-5d7e-4e31-b965-1d58762c428a",
   "metadata": {},
   "outputs": [],
   "source": [
    "2**19"
   ]
  },
  {
   "cell_type": "code",
   "execution_count": null,
   "id": "c9bbb0b9-3570-4c2f-8238-2e405ee14cd4",
   "metadata": {},
   "outputs": [],
   "source": [
    "pow = 9\n",
    "spec_params = {\"n_fft\": 2**(pow), \"hop_length\": 2**(pow-4), \"window\":\"blackman\" }\n",
    "spec_params"
   ]
  },
  {
   "cell_type": "code",
   "execution_count": null,
   "id": "bac07dc1-d901-4cf4-b06f-46a0c2d2fca7",
   "metadata": {},
   "outputs": [],
   "source": [
    "D = np.abs(librosa.stft(y=audio2, **spec_params,))\n",
    "DB = librosa.amplitude_to_db(D, ref=np.max)"
   ]
  },
  {
   "cell_type": "markdown",
   "id": "02782e7d-7e17-4c1c-a295-eb0652c1e15c",
   "metadata": {},
   "source": [
    "DB.shape\n",
    "\n",
    "\n",
    "Hz Hertz  = samples per second  \n",
    "SHz Shmerz = samples per day  \n",
    "\n",
    "\n",
    "my signal period = 1/1440 day  \n",
    "my sampling freq = 60 min * 24 hrs = 1440 SHz  \n",
    "\n"
   ]
  },
  {
   "cell_type": "code",
   "execution_count": null,
   "id": "ad34a10d-e8e6-45dd-9d98-fcc1388d6c3e",
   "metadata": {},
   "outputs": [],
   "source": [
    "Fs = 60*24\n",
    "nfft = 512\n",
    "f = range(0,nfft/2-1)*Fs/nfft; "
   ]
  },
  {
   "cell_type": "code",
   "execution_count": null,
   "id": "ebdd7883-54e1-416f-a177-b5ff82d7850f",
   "metadata": {},
   "outputs": [],
   "source": [
    "f = np.arange(0,int(nfft/2)-1)*(Fs/nfft)"
   ]
  },
  {
   "cell_type": "code",
   "execution_count": null,
   "id": "a9e923c3-2cc7-486a-8f43-f1511ac53982",
   "metadata": {},
   "outputs": [],
   "source": [
    "f"
   ]
  },
  {
   "cell_type": "code",
   "execution_count": null,
   "id": "b7f78724-ffcd-4f72-9d6f-b90da448a833",
   "metadata": {},
   "outputs": [],
   "source": [
    "f.shape"
   ]
  },
  {
   "cell_type": "code",
   "execution_count": null,
   "id": "a380cbab-2eea-41b8-acdf-0b08d7278af6",
   "metadata": {},
   "outputs": [],
   "source": [
    "DB[:,0:1000]"
   ]
  },
  {
   "cell_type": "code",
   "execution_count": null,
   "id": "d43e4b81-4c9c-49f6-be4f-2cef9be30489",
   "metadata": {},
   "outputs": [],
   "source": [
    "import scipy\n",
    "scipy.signal.get_window()"
   ]
  },
  {
   "cell_type": "code",
   "execution_count": null,
   "id": "8b9bc12a-22d7-4431-b84e-dc6eca4b5e88",
   "metadata": {},
   "outputs": [],
   "source": [
    "fs= 4096 # 86400 # 44100"
   ]
  },
  {
   "cell_type": "code",
   "execution_count": null,
   "id": "de1c455b-a00c-4a17-af79-9cdde9cc64b4",
   "metadata": {},
   "outputs": [],
   "source": [
    "DL = np.log10(D)"
   ]
  },
  {
   "cell_type": "code",
   "execution_count": null,
   "id": "5a5b014b-dc12-4113-9d6b-daba1e078a29",
   "metadata": {},
   "outputs": [],
   "source": [
    "#px.imshow(DB[:,0:5000],aspect='auto', origin='lower')"
   ]
  },
  {
   "cell_type": "code",
   "execution_count": null,
   "id": "2dfb7889-fb36-4005-9850-0c5e5310567b",
   "metadata": {},
   "outputs": [],
   "source": [
    "fig = px.imshow(DB[:,5000:9000], aspect='auto', origin='lower') #, extent=[80,120,32,0] )\n",
    "fig.update_yaxes(range=[0, f[-1]], autorange=False)"
   ]
  },
  {
   "cell_type": "markdown",
   "id": "dc18efdd-e4fa-4cfd-97c4-8f97dc6881af",
   "metadata": {},
   "source": [
    "### b. Check for seasonality and cyclical patterns"
   ]
  },
  {
   "cell_type": "code",
   "execution_count": null,
   "id": "f48fe777-3a95-43da-8c50-efd273fc756e",
   "metadata": {},
   "outputs": [],
   "source": []
  },
  {
   "cell_type": "markdown",
   "id": "9109fb36-1ff0-4c1f-8427-e8fdb658a49f",
   "metadata": {},
   "source": [
    "- Analyze distribution of power consumption\n",
    "- Identify and handle missing values or outliers"
   ]
  },
  {
   "cell_type": "markdown",
   "id": "7c01aede-f01d-4364-8778-10b51d1699cf",
   "metadata": {},
   "source": [
    "## 3. Implement a linear regression model to predict power consumption for the last three time periods:"
   ]
  },
  {
   "cell_type": "markdown",
   "id": "07b31522-064e-42a0-b24f-d64647b85f9e",
   "metadata": {},
   "source": [
    "### a. Split the data into training and testing sets"
   ]
  },
  {
   "cell_type": "code",
   "execution_count": null,
   "id": "fcc40907-e1e5-450d-9ece-a28fd6a6f0c2",
   "metadata": {},
   "outputs": [],
   "source": [
    "dummyScaler = FunctionTransformer(lambda a: a, lambda a: a) "
   ]
  },
  {
   "cell_type": "code",
   "execution_count": null,
   "id": "a8a111d3-e3a9-4015-b188-0404e093c1fd",
   "metadata": {},
   "outputs": [],
   "source": [
    "n_sampls = 10000\n",
    "epochs = 5\n",
    "verbose = 1"
   ]
  },
  {
   "cell_type": "code",
   "execution_count": null,
   "id": "27e065f1-4d09-4f96-87a8-4e22423ecf1c",
   "metadata": {},
   "outputs": [],
   "source": [
    "Xs = X.loc[0:n_sampls,:]"
   ]
  },
  {
   "cell_type": "code",
   "execution_count": null,
   "id": "6ae16f0c-37ee-4744-ba43-76c18d676476",
   "metadata": {},
   "outputs": [],
   "source": [
    "Xs = Xs.set_index(\"datetime\")"
   ]
  },
  {
   "cell_type": "markdown",
   "id": "854af5a2-4c7b-45ea-b1ec-4fd7b96a5552",
   "metadata": {},
   "source": [
    "### b. Prepare features (consider lag variables, time-based features) \n",
    "features: \n",
    "year\n",
    "month \n",
    "week\n",
    "day\n",
    "hour\n",
    "every variable + 10 of it's lags \n",
    "\n",
    "y's: \n",
    "Global_active_power"
   ]
  },
  {
   "cell_type": "code",
   "execution_count": null,
   "id": "3608cb05-0928-43b2-b135-60219131bc35",
   "metadata": {},
   "outputs": [],
   "source": []
  },
  {
   "cell_type": "code",
   "execution_count": null,
   "id": "f21fbcdb-10bb-4b7b-8847-e76db333c44e",
   "metadata": {},
   "outputs": [],
   "source": [
    "# resample the data to fill the NaN values\n",
    "df= Xs[\"Global_active_power\"].resample(\"1min\").mean().ffill().to_frame()\n",
    "df"
   ]
  },
  {
   "cell_type": "code",
   "execution_count": null,
   "id": "faca914b-56c0-4909-9c72-12b0a7e91f41",
   "metadata": {},
   "outputs": [],
   "source": [
    "df['year'] = df.index.year \n",
    "df['month'] = df.index.month \n",
    "df['day'] = df.index.day \n",
    "df['hour'] = df.index.hour \n",
    "df['minute'] = df.index.minute \n",
    "df"
   ]
  },
  {
   "cell_type": "code",
   "execution_count": null,
   "id": "fb45772d-4541-420b-865b-2e0eedf5ad83",
   "metadata": {},
   "outputs": [],
   "source": [
    "for i in range(0,6):\n",
    "    lag = 3**i\n",
    "    df[f\"Global_active_power.L{lag}\"] = df[\"Global_active_power\"].shift(lag)"
   ]
  },
  {
   "cell_type": "code",
   "execution_count": null,
   "id": "1581e0bf-e787-48cc-8027-bde71f84636d",
   "metadata": {},
   "outputs": [],
   "source": [
    "df.dropna(inplace = True)\n",
    "df"
   ]
  },
  {
   "cell_type": "code",
   "execution_count": null,
   "id": "0b3f16e6-8889-4157-9d98-d8f6f7011068",
   "metadata": {},
   "outputs": [],
   "source": [
    "# Split the data into feature and target\n",
    "target = \"Global_active_power\"\n",
    "y = df[target]\n",
    "X = df.drop(columns= target)                                             \n",
    "#Split the data into train and test sets\n",
    "cutoff = int(len(X) * 0.8)\n",
    "X_train, y_train = X.iloc[:cutoff], y.iloc[:cutoff]\n",
    "X_test, y_test = X.iloc[cutoff:], y.iloc[cutoff:]"
   ]
  },
  {
   "cell_type": "code",
   "execution_count": null,
   "id": "dc21a25b-e704-409b-944b-89da360e495d",
   "metadata": {},
   "outputs": [],
   "source": [
    "X_train"
   ]
  },
  {
   "cell_type": "markdown",
   "id": "4f30fe52-a204-4e1f-842c-a9969bf73204",
   "metadata": {},
   "source": [
    "### c. Train the model and make predictions"
   ]
  },
  {
   "cell_type": "code",
   "execution_count": null,
   "id": "66c046b5-6f21-4acb-9bec-c988de994bf2",
   "metadata": {},
   "outputs": [],
   "source": [
    "model = LinearRegression()\n",
    "res = model.fit(X_train, y_train)\n"
   ]
  },
  {
   "cell_type": "code",
   "execution_count": null,
   "id": "13db7d52-55a4-41b8-9d16-8a1037348eaf",
   "metadata": {},
   "outputs": [],
   "source": [
    "dir(res)"
   ]
  },
  {
   "cell_type": "code",
   "execution_count": null,
   "id": "fc2ed7ff-5cf2-404c-8ca1-5f33f5b769e1",
   "metadata": {},
   "outputs": [],
   "source": [
    "df_pred_test = pd.DataFrame(\n",
    "             {\n",
    "             \"y_test\": y_test,\n",
    "             \"y_pred\": model.predict(X_test)\n",
    "             }\n",
    ")\n",
    "df_pred_test"
   ]
  },
  {
   "cell_type": "code",
   "execution_count": null,
   "id": "14220ac9-9f68-4681-b705-c6f6dc5e791b",
   "metadata": {},
   "outputs": [],
   "source": [
    "fig = px.line(df_pred_test, labels= {\"value\": \"Close Price\"}, \n",
    "              title = \"Linear Regression Model: Actual Prices vs. Predicted Prices.\")\n",
    "fig.show()"
   ]
  },
  {
   "cell_type": "code",
   "execution_count": null,
   "id": "f61d2dbe-4cb1-47d5-aec4-1fdf98255fdf",
   "metadata": {},
   "outputs": [],
   "source": []
  },
  {
   "cell_type": "code",
   "execution_count": null,
   "id": "1169cbc5-1308-48e9-bc05-bf9f44005a51",
   "metadata": {},
   "outputs": [],
   "source": []
  },
  {
   "cell_type": "markdown",
   "id": "0907046b-f90a-47ba-87cc-c697b266b3c9",
   "metadata": {},
   "source": [
    "## 4. Evaluate the linear regression model using appropriate metrics:\n",
    "- Mean Absolute Error (MAE)\n",
    "- Mean Squared Error (MSE)\n",
    "- Root Mean Squared Error (RMSE)\n",
    "- R-squared (R²) value"
   ]
  },
  {
   "cell_type": "code",
   "execution_count": null,
   "id": "22742783-99b8-44b4-a74b-e159862f79ac",
   "metadata": {},
   "outputs": [],
   "source": [
    "experiments = pd.DataFrame(columns=['model','data'])"
   ]
  },
  {
   "cell_type": "code",
   "execution_count": null,
   "id": "7356c52d-9bb0-4f6f-ac30-9726eeff8d8d",
   "metadata": {},
   "outputs": [],
   "source": [
    "def pipeline(model, x_train, y_train, x_test, y_test, model_args={}):\n",
    "\n",
    "    # Train the model\n",
    "    print(f\"training model, please wait...\")\n",
    "    model.fit(x_train, y_train, **model_args) # , epochs=epochs, validation_split= .1, verbose=0)\n",
    "    \n",
    "    print(f\"evaluating model, please wait...\")\n",
    "    y_trn_pred = model.predict(x_train)    \n",
    "    y_pred = model.predict(x_test)\n",
    "    \n",
    "   \n",
    "    #df_pred_test = pd.DataFrame({\"y_test\": y_test,\"y_pred\": y_pred})\n",
    "   \n",
    "    res = {}\n",
    "    print(y_train.shape, y_trn_pred.shape)\n",
    "    # Evaluate the model on train set\n",
    "    y_train = y_train.squeeze()\n",
    "    y_trn_pred = y_trn_pred.squeeze()\n",
    "    print(y_train.shape, y_trn_pred.shape)\n",
    "    \n",
    "    res[\"trn_MAE\"] = [mean_absolute_error(y_train, y_trn_pred)]\n",
    "    res[\"trn_MSE\"] = [mean_squared_error(y_train, y_trn_pred)]\n",
    "    res[\"trn_RMSE\"] = [root_mean_squared_error(y_train, y_trn_pred)]\n",
    "    res[\"trn_Rsq\"] = [r2_score(y_train, y_trn_pred)]\n",
    "    \n",
    "    # Evaluate the model on test set\n",
    "    y_test = y_test.squeeze()\n",
    "    y_pred = y_pred.squeeze()\n",
    "    print(y_test.shape, y_pred.shape)\n",
    "    \n",
    "    res[\"tst_MAE\"] = [mean_absolute_error(y_test, y_pred)]\n",
    "    res[\"tst_MSE\"] = [mean_squared_error(y_test, y_pred)]\n",
    "    res[\"tst_RMSE\"] = [root_mean_squared_error(y_test, y_pred)]\n",
    "    res[\"tst_Rsq\"] = [r2_score(y_test, y_pred)]\n",
    "    print(\"done\")\n",
    "    return model, res\n",
    "  "
   ]
  },
  {
   "cell_type": "code",
   "execution_count": null,
   "id": "d6784d94-ea8a-4e08-ba15-01319b92caa2",
   "metadata": {},
   "outputs": [],
   "source": [
    "def report(result, model_label, data_label):\n",
    "    a = result\n",
    "    a[\"model\"] = model_label\n",
    "    a[\"data\"] = data_label\n",
    "    log_df = pd.DataFrame(a)    \n",
    "    global experiments \n",
    "\n",
    "    if((experiments.shape[0]>0) and  \n",
    "       model_label in experiments.model.unique() and  \n",
    "       data_label in experiments.data.unique()):\n",
    "        import warnings\n",
    "        warnings.warn(f\"model label {model_label} and data label '{data_label}' already exist. replacing.\")\n",
    "        #drop(fit_runs, 'data', label)\n",
    "    \n",
    "    experiments = pd.concat([experiments, log_df])\n",
    "\n",
    "    metrics = list(result.keys())\n",
    "    metrics.sort()\n",
    "    \n",
    "    log_df_melted = experiments.melt(id_vars=['model','data'], \n",
    "                            value_vars= metrics, #['accuracy', 'loss'], \n",
    "                            var_name='metric', \n",
    "                            value_name='value')\n",
    "    \n",
    "    rx = r\"(?P<set>[trns]+_)?(?P<metric>[A-Za-z]+)\"\n",
    "    nspl = log_df_melted.metric.str.extract(rx)\n",
    "    log_df_melted.drop('metric',axis=1, inplace=True)\n",
    "    log_df_melted = log_df_melted.join(nspl)    \n",
    "    log_df_melted.loc[log_df_melted.set == \"trn_\", \"set\"] = \"trn\"\n",
    "    #log_df_melted.loc[log_df_melted.set == \"val_\", \"set\"] = \"val\"\n",
    "    log_df_melted.loc[log_df_melted.set == \"tst_\", \"set\"] = \"tst\"\n",
    "\n",
    "    fig = px.bar(log_df_melted, x='model', y='value', title= \"use mouse to zoom\",\n",
    "                  color='set', facet_row='metric', height=600, barmode = 'group',\n",
    "                  facet_col=\"data\", category_orders={\"set\": [\"trn\",\"val\",\"tst\"]}\n",
    "                 )\n",
    "\n",
    "    #fig.update_yaxes(matches='facet_row')\n",
    "    return fig"
   ]
  },
  {
   "cell_type": "code",
   "execution_count": null,
   "id": "b0ff0e34-1ed1-4556-b042-2c65b9c01f6b",
   "metadata": {},
   "outputs": [],
   "source": [
    "X_train"
   ]
  },
  {
   "cell_type": "code",
   "execution_count": null,
   "id": "52dd1692-c8a0-4086-9645-dcebe83d4d86",
   "metadata": {},
   "outputs": [],
   "source": [
    "model = DummyRegressor(strategy='mean')"
   ]
  },
  {
   "cell_type": "code",
   "execution_count": null,
   "id": "de615a0d-8ef2-4ab2-81af-5b878e0b1086",
   "metadata": {},
   "outputs": [],
   "source": [
    "model, res = pipeline(model, X_train, y_train, X_test, y_test)\n",
    "\n",
    "report(res, \"Baseline\", \"basic\")\n"
   ]
  },
  {
   "cell_type": "code",
   "execution_count": null,
   "id": "305604e3-f213-4306-a102-c4c0d4c1c210",
   "metadata": {},
   "outputs": [],
   "source": []
  },
  {
   "cell_type": "code",
   "execution_count": null,
   "id": "92e5dd12-f4fe-42d3-8a73-61de0fb3971e",
   "metadata": {},
   "outputs": [],
   "source": []
  },
  {
   "cell_type": "code",
   "execution_count": null,
   "id": "a6cc05f2-1b4f-4f87-881b-99342b42f307",
   "metadata": {},
   "outputs": [],
   "source": [
    "model = LinearRegression()"
   ]
  },
  {
   "cell_type": "code",
   "execution_count": null,
   "id": "afae0ab5-e259-4107-8b96-7647ab6c1f67",
   "metadata": {},
   "outputs": [],
   "source": [
    "model, res = pipeline(model, X_train, y_train, X_test, y_test)\n",
    "report(res, \"LinearRegression\", \"basic\")"
   ]
  },
  {
   "cell_type": "code",
   "execution_count": null,
   "id": "5c34325d-3272-4506-926c-6f7e92ac75ff",
   "metadata": {},
   "outputs": [],
   "source": [
    "experiments"
   ]
  },
  {
   "cell_type": "code",
   "execution_count": null,
   "id": "bb2c553c-caf2-4b60-8551-7cf98a0afc34",
   "metadata": {},
   "outputs": [],
   "source": [
    "\n",
    "#mean absolute error\n",
    "\n",
    "\n",
    "y_pred_baseline = [y_train.mean()] * len(y_train)\n",
    "mae_baseline = mean_absolute_error(y_train, y_pred_baseline)\n",
    "print(\"Mean Global_active_power:\", round(y_train.mean(), 2))\n",
    "print(\"Baseline MAE:\", round(mae_baseline, 4))\n",
    "# Mean Close Prices: 391.22\n",
    "#Baseline MAE: 91.89"
   ]
  },
  {
   "cell_type": "code",
   "execution_count": null,
   "id": "5ec13088-2cee-4e17-ab33-9de022df95ff",
   "metadata": {},
   "outputs": [],
   "source": [
    "training_mae = mean_absolute_error(y_train, model.predict(X_train))\n",
    "test_mae = mean_absolute_error(y_test, model.predict(X_test))\n",
    "print(\"Training MAE:\", round(training_mae, 2))\n",
    "print(\"Test MAE:\", round(test_mae, 2))"
   ]
  },
  {
   "cell_type": "markdown",
   "id": "1dd2d998-a266-4e6b-85ef-36e20af2a031",
   "metadata": {},
   "source": [
    "## 5. Implement a Recurrent Neural Network (RNN) for power consumption prediction:"
   ]
  },
  {
   "cell_type": "markdown",
   "id": "853ca933-d7a7-4abd-8354-c3ea7f961cef",
   "metadata": {},
   "source": [
    "### a. Preprocess data for RNN input"
   ]
  },
  {
   "cell_type": "code",
   "execution_count": null,
   "id": "22331fed-19e4-48d7-9bad-460620f58182",
   "metadata": {},
   "outputs": [],
   "source": [
    "\n"
   ]
  },
  {
   "cell_type": "code",
   "execution_count": null,
   "id": "41e51393-3774-4665-b346-5012df3fc5b3",
   "metadata": {},
   "outputs": [],
   "source": [
    "df.shape"
   ]
  },
  {
   "cell_type": "code",
   "execution_count": null,
   "id": "b84a8b54-ac3b-4269-b8cc-6455c56b273c",
   "metadata": {},
   "outputs": [],
   "source": [
    "# Split the data into feature and target\n",
    "target = \"Global_active_power\"\n",
    "y = df[[target]]\n",
    "X = df.drop(columns= target)                     \n",
    "\n",
    "# Normalize the dataset\n",
    "scaler = MinMaxScaler(feature_range=(0, 1))\n",
    "X = scaler.fit_transform(X)\n",
    "y = scaler.fit_transform(y)\n",
    "\n",
    "#Split the data into train and test sets\n",
    "cutoff = int(len(X) * 0.8)\n",
    "X_train, y_train = X[:cutoff], y[:cutoff]\n",
    "X_test, y_test = X[cutoff:], y[cutoff:]"
   ]
  },
  {
   "cell_type": "code",
   "execution_count": null,
   "id": "33a43c88-8c88-4d53-8a64-4bd4197577cb",
   "metadata": {},
   "outputs": [],
   "source": [
    "X.shape"
   ]
  },
  {
   "cell_type": "markdown",
   "id": "49243cfd-46df-4439-afdf-a4e159c61e19",
   "metadata": {},
   "source": [
    "### b. Design and train the RNN model"
   ]
  },
  {
   "cell_type": "code",
   "execution_count": null,
   "id": "9e1b463a-26ca-4254-bd3f-3566638c3679",
   "metadata": {},
   "outputs": [],
   "source": []
  },
  {
   "cell_type": "code",
   "execution_count": null,
   "id": "56d5557d-b6df-4aa6-bfed-9f5f627ad0ae",
   "metadata": {},
   "outputs": [],
   "source": [
    "sequence_length = X_train.shape[1]\n",
    "\n",
    "# Build an RNN model\n",
    "simpleRnn_model = Sequential([\n",
    "    SimpleRNN(units=32, activation='relu', input_shape=(sequence_length, 1)),\n",
    "    Dense(units=1)\n",
    "])\n",
    "\n",
    "simpleRnn_model.compile(optimizer='adam', loss='mse')\n",
    "model_args = {\"epochs\":epochs, \"batch_size\":16}"
   ]
  },
  {
   "cell_type": "code",
   "execution_count": null,
   "id": "4846e39a-4759-423f-b79f-e68489e82df3",
   "metadata": {},
   "outputs": [],
   "source": [
    "# Train the model\n",
    "simpleRnn_model, res = pipeline(simpleRnn_model, X_train, y_train, X_test, y_test, model_args)\n",
    "\n"
   ]
  },
  {
   "cell_type": "code",
   "execution_count": null,
   "id": "9c0a039b-0462-432f-a68e-96e69dbcfc38",
   "metadata": {},
   "outputs": [],
   "source": []
  },
  {
   "cell_type": "markdown",
   "id": "e23b3d8e-b886-41d9-806e-95880672f581",
   "metadata": {},
   "source": [
    "- Make predictions and visualize results  \n",
    "\n",
    " \n",
    " \n",
    " TODO: visualise the time series with predictions "
   ]
  },
  {
   "cell_type": "code",
   "execution_count": null,
   "id": "f64de299-8234-4da0-b7f6-fba471230109",
   "metadata": {},
   "outputs": [],
   "source": [
    "report(res, \"SimpleRNN\", \"scaled\")"
   ]
  },
  {
   "cell_type": "markdown",
   "id": "13203337-f487-4c91-b2a6-87da8e47255e",
   "metadata": {},
   "source": [
    "- Compare performance metrics with linear regression"
   ]
  },
  {
   "cell_type": "markdown",
   "id": "f8c09030-5cd8-41b3-bd90-ad9279d2a098",
   "metadata": {},
   "source": [
    "## 6. Implement Long Short-Term Memory (LSTM) for power consumption prediction:\n",
    " "
   ]
  },
  {
   "cell_type": "markdown",
   "id": "16a73ccf-b9f2-4d50-a06a-8ed54e7efcaf",
   "metadata": {},
   "source": [
    "### a. Preprocess data for LSTM input"
   ]
  },
  {
   "cell_type": "code",
   "execution_count": null,
   "id": "3d32cccf-b584-45eb-bde9-44632b57174b",
   "metadata": {},
   "outputs": [],
   "source": [
    "# Split the data into feature and target\n",
    "target = \"Global_active_power\"\n",
    "y = df[[target]]\n",
    "X = df.drop(columns= target)                     \n",
    "\n",
    "# Normalize the dataset\n",
    "# Reshape input to be [samples, time steps, features] which is required for LSTM\n",
    "scaler = MinMaxScaler(feature_range=(0, 1))\n",
    "X = scaler.fit_transform(X).reshape(X.shape[0], X.shape[1], 1)\n",
    "y = scaler.fit_transform(y).reshape(y.shape[0], y.shape[1], 1)\n",
    "\n",
    "time_step = X.shape[1]\n",
    "\n",
    "#Split the data into train and test sets\n",
    "cutoff = int(len(X) * 0.8)\n",
    "X_train, y_train = X[:cutoff], y[:cutoff]\n",
    "X_test, y_test = X[cutoff:], y[cutoff:]"
   ]
  },
  {
   "cell_type": "code",
   "execution_count": null,
   "id": "4644ff05-f9fa-4e6d-b9a6-9d5f97da44ad",
   "metadata": {},
   "outputs": [],
   "source": []
  },
  {
   "cell_type": "code",
   "execution_count": null,
   "id": "ca724362-9c23-4b41-927e-293ef48c39cb",
   "metadata": {},
   "outputs": [],
   "source": [
    "X_train.shape, y_train.shape"
   ]
  },
  {
   "cell_type": "markdown",
   "id": "d0b2c51c-f70e-43e5-81a4-78f6b9487e34",
   "metadata": {},
   "source": [
    "### b. Design and train the LSTM model"
   ]
  },
  {
   "cell_type": "code",
   "execution_count": null,
   "id": "a1dcfebb-9e36-4f19-842d-ec465eaea651",
   "metadata": {},
   "outputs": [],
   "source": [
    "# Create and fit the LSTM network\n",
    "LSTM_model = Sequential()\n",
    "LSTM_model.add(Input((time_step, 1)))\n",
    "LSTM_model.add(LSTM(50, return_sequences=True ))\n",
    "LSTM_model.add(LSTM(50, return_sequences=False))\n",
    "LSTM_model.add(Dense(1))\n",
    "\n",
    "LSTM_model.compile(optimizer='adam', loss='mean_squared_error')\n",
    "\n",
    "model_args = {\"epochs\":epochs, \"batch_size\":32, \"verbose\":verbose}"
   ]
  },
  {
   "cell_type": "code",
   "execution_count": null,
   "id": "abf22424-0318-4580-868e-c7c894668936",
   "metadata": {},
   "outputs": [],
   "source": [
    "model_args"
   ]
  },
  {
   "cell_type": "code",
   "execution_count": null,
   "id": "febd1c67-721a-49b9-a0da-b7d62616aea6",
   "metadata": {},
   "outputs": [],
   "source": [
    "X_train.shape, y_train.shape, X_test.shape, y_test.shape"
   ]
  },
  {
   "cell_type": "code",
   "execution_count": null,
   "id": "6f57f23d-1b0d-42c0-b813-b5ea3d81f7b7",
   "metadata": {},
   "outputs": [],
   "source": [
    "LSTM_model, res = pipeline(LSTM_model, X_train, y_train, X_test, y_test, model_args)\n"
   ]
  },
  {
   "cell_type": "code",
   "execution_count": null,
   "id": "d607e0a7-d018-47a9-80e3-fb3712f2edaf",
   "metadata": {},
   "outputs": [],
   "source": [
    "\n",
    "# # Make predictions\n",
    "# train_predict = model.predict(X)\n",
    "\n",
    "# # Invert predictions\n",
    "# train_predict = scaler.inverse_transform(train_predict)\n",
    "# Y = scaler.inverse_transform([Y])"
   ]
  },
  {
   "cell_type": "markdown",
   "id": "48a159ee-f715-4848-ac21-8da93f223a99",
   "metadata": {},
   "source": [
    "### c. Make predictions and visualize results"
   ]
  },
  {
   "cell_type": "markdown",
   "id": "af5cd8c9-92ac-4093-9d65-10427ac0a668",
   "metadata": {},
   "source": [
    "### d. Compare performance metrics with previous models"
   ]
  },
  {
   "cell_type": "code",
   "execution_count": null,
   "id": "687701f6-772d-4e0f-b4a7-82c9f760c209",
   "metadata": {},
   "outputs": [],
   "source": [
    "report(res, \"LSTM\", \"scaled\")"
   ]
  },
  {
   "cell_type": "markdown",
   "id": "934ef0b5-9df5-477b-8921-e430bef53aff",
   "metadata": {},
   "source": [
    "## 7. Implement an LSTM model with an Attention layer for power consumption prediction:"
   ]
  },
  {
   "cell_type": "markdown",
   "id": "a54ef113-f8e1-4cc7-a28e-8b92a4afef33",
   "metadata": {},
   "source": [
    "### a. Design and train the LSTM model with Attention"
   ]
  },
  {
   "cell_type": "code",
   "execution_count": null,
   "id": "6a5f60d7-420b-467f-b579-462c3355cf61",
   "metadata": {},
   "outputs": [],
   "source": [
    "# Attention-based Encoder-Decoder model\n",
    "encoder_input = Input(shape=(time_step, 1))\n",
    "encoder_lstm = LSTM(32, return_sequences=True)(encoder_input)\n",
    "\n",
    "decoder_input = Input(shape=(time_step-2, 1))\n",
    "decoder_lstm = LSTM(32, return_sequences=True)(decoder_input)\n",
    "\n",
    "attention = Attention()([decoder_lstm, encoder_lstm])\n",
    "combined = Concatenate(axis=-1)([decoder_lstm, attention])\n",
    "\n",
    "output = Dense(1)(combined)\n",
    "\n",
    "attention_model = Model(inputs=[encoder_input, decoder_input], outputs=output)\n",
    "attention_model.compile(optimizer='adam', loss='mse')\n",
    "\n",
    "\n",
    "\n"
   ]
  },
  {
   "cell_type": "code",
   "execution_count": null,
   "id": "bdbdf70c-cd74-4729-ad45-2e89d21e2bd8",
   "metadata": {},
   "outputs": [],
   "source": [
    "wat = attention_model.fit([X_train, X_train[:, :time_step-2]], y_train, **model_args) "
   ]
  },
  {
   "cell_type": "code",
   "execution_count": null,
   "id": "9edea81e-1a2a-4c5c-83ab-3689d4f64c0a",
   "metadata": {},
   "outputs": [],
   "source": [
    "ypred = attention_model.predict([X_test, X_test[:, :time_step-2]])"
   ]
  },
  {
   "cell_type": "code",
   "execution_count": null,
   "id": "4c72edef-e455-4e40-aae5-94da63f026ce",
   "metadata": {},
   "outputs": [],
   "source": [
    "ypred.shape"
   ]
  },
  {
   "cell_type": "code",
   "execution_count": null,
   "id": "a330e8ae-6b69-4cb8-aa9b-1396992ac1cf",
   "metadata": {},
   "outputs": [],
   "source": [
    "ytrnpred = attention_model.predict([X_train, X_train[:, :time_step-2]])"
   ]
  },
  {
   "cell_type": "code",
   "execution_count": null,
   "id": "72a52a10-f747-4ea8-a742-c873fab4bdc2",
   "metadata": {},
   "outputs": [],
   "source": [
    "\n",
    "ytrnpred.shape"
   ]
  },
  {
   "cell_type": "code",
   "execution_count": null,
   "id": "ebbd3cac-f914-448c-879e-f5755ab36890",
   "metadata": {},
   "outputs": [],
   "source": [
    "attention_model"
   ]
  },
  {
   "cell_type": "code",
   "execution_count": null,
   "id": "6a74e9b6-5181-4c89-be7d-50e4396677f8",
   "metadata": {},
   "outputs": [],
   "source": [
    "from tensorflow.keras.utils import plot_model\n",
    "\n",
    "plot_model(attention_model)"
   ]
  },
  {
   "cell_type": "code",
   "execution_count": null,
   "id": "41934315-ef2c-458a-859f-f718abee280f",
   "metadata": {},
   "outputs": [],
   "source": [
    "attention_model, res = pipeline(attention_model, \n",
    "                                [X_train, X_train[:, :time_step-2]], y_train, \n",
    "                                [X_test, X_test[:, :time_step-2]], y_test, model_args)\n"
   ]
  },
  {
   "cell_type": "code",
   "execution_count": null,
   "id": "8ca817f7-c572-4fab-9f6e-54c53d18ed56",
   "metadata": {},
   "outputs": [],
   "source": []
  },
  {
   "cell_type": "markdown",
   "id": "15a0c36e-dbab-4990-aeed-713fa5454b24",
   "metadata": {},
   "source": [
    "### b. Make predictions and visualize results"
   ]
  },
  {
   "cell_type": "markdown",
   "id": "d02ca9bf-672a-40a2-b965-85f99b0c8331",
   "metadata": {},
   "source": [
    "### c. Compare performance metrics with previous models"
   ]
  },
  {
   "cell_type": "markdown",
   "id": "91d4a2aa-6383-4757-a22d-8a5c319c2007",
   "metadata": {},
   "source": [
    "### d. Analyze the Attention weights to interpret model focus"
   ]
  },
  {
   "cell_type": "markdown",
   "id": "d30ab34c-de3f-4c1b-afb3-665c3d09beec",
   "metadata": {},
   "source": [
    "## 8. Data augmentation experiment:"
   ]
  },
  {
   "cell_type": "markdown",
   "id": "2c3ee7d9-b8b8-4588-acd6-b4711e1d67d7",
   "metadata": {},
   "source": [
    "- Modify up to 10% of the dataset to potentially improve prediction results\n",
    "- Retrain and evaluate all three models (RNN, LSTM, LSTM with Attention)\n",
    "- Compare the impact of data changes on each model's performance\n",
    "## 9. Data reduction experiment:"
   ]
  },
  {
   "cell_type": "markdown",
   "id": "9d725dc3-5dbe-479e-9c37-5dd51ac86214",
   "metadata": {},
   "source": [
    "- Remove up to 10% of the data randomly\n",
    "- Retrain and evaluate all three models\n",
    "- Compare how data reduction affects each model's performance\n",
    "## 10. Data resolution experiment:"
   ]
  },
  {
   "cell_type": "markdown",
   "id": "4b78c6c2-5f97-483c-8cf9-bd02122ff1b0",
   "metadata": {},
   "source": [
    "- Reduce the time resolution of the data by 50% (e.g., from minute-level to 2-minute\n",
    "intervals)\n",
    "- Retrain and evaluate all three models\n",
    "- Analyze how changes in data resolution impact each model's performance\n",
    "## 11. Conclusion and insights:"
   ]
  },
  {
   "cell_type": "markdown",
   "id": "13163d53-2196-4066-9a24-d2163e2100aa",
   "metadata": {},
   "source": [
    "- Summarize findings from all experiments\n",
    "- Discuss which model performed best under different conditions\n",
    "- Provide insights on the dataset's characteristics and their impact on model performance"
   ]
  },
  {
   "cell_type": "code",
   "execution_count": null,
   "id": "07a99ce6-53a4-4709-b72c-87174e2a98dc",
   "metadata": {},
   "outputs": [],
   "source": []
  }
 ],
 "metadata": {
  "kernelspec": {
   "display_name": "Python [conda env:DS]",
   "language": "python",
   "name": "conda-env-DS-py"
  },
  "language_info": {
   "codemirror_mode": {
    "name": "ipython",
    "version": 3
   },
   "file_extension": ".py",
   "mimetype": "text/x-python",
   "name": "python",
   "nbconvert_exporter": "python",
   "pygments_lexer": "ipython3",
   "version": "3.11.9"
  }
 },
 "nbformat": 4,
 "nbformat_minor": 5
}
